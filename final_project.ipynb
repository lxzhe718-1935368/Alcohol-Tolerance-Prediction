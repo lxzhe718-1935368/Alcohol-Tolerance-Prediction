{
 "cells": [
  {
   "cell_type": "code",
   "execution_count": 401,
   "metadata": {},
   "outputs": [],
   "source": [
    "import pandas as pd\n",
    "import numpy as np\n",
    "import matplotlib.pyplot as plt\n",
    "from sklearn.model_selection import train_test_split\n",
    "from sklearn.tree import DecisionTreeClassifier\n",
    "from sklearn.model_selection import KFold\n",
    "from sklearn.model_selection import GridSearchCV\n",
    "from sklearn.tree import plot_tree"
   ]
  },
  {
   "cell_type": "code",
   "execution_count": 402,
   "metadata": {},
   "outputs": [
    {
     "data": {
      "text/html": [
       "<div>\n",
       "<style scoped>\n",
       "    .dataframe tbody tr th:only-of-type {\n",
       "        vertical-align: middle;\n",
       "    }\n",
       "\n",
       "    .dataframe tbody tr th {\n",
       "        vertical-align: top;\n",
       "    }\n",
       "\n",
       "    .dataframe thead th {\n",
       "        text-align: right;\n",
       "    }\n",
       "</style>\n",
       "<table border=\"1\" class=\"dataframe\">\n",
       "  <thead>\n",
       "    <tr style=\"text-align: right;\">\n",
       "      <th></th>\n",
       "      <th>id</th>\n",
       "      <th>age</th>\n",
       "      <th>sex</th>\n",
       "      <th>weight</th>\n",
       "      <th>hight</th>\n",
       "      <th>smoke</th>\n",
       "      <th>drinking_freq</th>\n",
       "      <th>month_drinking_freq</th>\n",
       "      <th>drinking_legth</th>\n",
       "      <th>parent_freq</th>\n",
       "      <th>eating_2</th>\n",
       "      <th>stress_level</th>\n",
       "      <th>sleep_length</th>\n",
       "      <th>liver_cond</th>\n",
       "      <th>tolerance</th>\n",
       "      <th>workout_freq</th>\n",
       "    </tr>\n",
       "  </thead>\n",
       "  <tbody>\n",
       "    <tr>\n",
       "      <th>0</th>\n",
       "      <td>1</td>\n",
       "      <td>23.0</td>\n",
       "      <td>1</td>\n",
       "      <td>107.0</td>\n",
       "      <td>192</td>\n",
       "      <td>1</td>\n",
       "      <td>2</td>\n",
       "      <td>4.0</td>\n",
       "      <td>3</td>\n",
       "      <td>1</td>\n",
       "      <td>2</td>\n",
       "      <td>4</td>\n",
       "      <td>7</td>\n",
       "      <td>2</td>\n",
       "      <td>12</td>\n",
       "      <td>2</td>\n",
       "    </tr>\n",
       "    <tr>\n",
       "      <th>1</th>\n",
       "      <td>2</td>\n",
       "      <td>22.0</td>\n",
       "      <td>2</td>\n",
       "      <td>49.0</td>\n",
       "      <td>160</td>\n",
       "      <td>1</td>\n",
       "      <td>2</td>\n",
       "      <td>5.0</td>\n",
       "      <td>2</td>\n",
       "      <td>1</td>\n",
       "      <td>1</td>\n",
       "      <td>3</td>\n",
       "      <td>7</td>\n",
       "      <td>2</td>\n",
       "      <td>3</td>\n",
       "      <td>3</td>\n",
       "    </tr>\n",
       "    <tr>\n",
       "      <th>2</th>\n",
       "      <td>3</td>\n",
       "      <td>23.0</td>\n",
       "      <td>1</td>\n",
       "      <td>56.0</td>\n",
       "      <td>175</td>\n",
       "      <td>1</td>\n",
       "      <td>2</td>\n",
       "      <td>8.0</td>\n",
       "      <td>3</td>\n",
       "      <td>3</td>\n",
       "      <td>1</td>\n",
       "      <td>3</td>\n",
       "      <td>8</td>\n",
       "      <td>2</td>\n",
       "      <td>8</td>\n",
       "      <td>4</td>\n",
       "    </tr>\n",
       "    <tr>\n",
       "      <th>3</th>\n",
       "      <td>4</td>\n",
       "      <td>21.0</td>\n",
       "      <td>2</td>\n",
       "      <td>53.0</td>\n",
       "      <td>170</td>\n",
       "      <td>2</td>\n",
       "      <td>2</td>\n",
       "      <td>4.0</td>\n",
       "      <td>2</td>\n",
       "      <td>4</td>\n",
       "      <td>2</td>\n",
       "      <td>3</td>\n",
       "      <td>8</td>\n",
       "      <td>2</td>\n",
       "      <td>2</td>\n",
       "      <td>4</td>\n",
       "    </tr>\n",
       "    <tr>\n",
       "      <th>4</th>\n",
       "      <td>5</td>\n",
       "      <td>53.0</td>\n",
       "      <td>2</td>\n",
       "      <td>57.0</td>\n",
       "      <td>162</td>\n",
       "      <td>2</td>\n",
       "      <td>3</td>\n",
       "      <td>1.0</td>\n",
       "      <td>2</td>\n",
       "      <td>3</td>\n",
       "      <td>4</td>\n",
       "      <td>2</td>\n",
       "      <td>6</td>\n",
       "      <td>2</td>\n",
       "      <td>50</td>\n",
       "      <td>3</td>\n",
       "    </tr>\n",
       "    <tr>\n",
       "      <th>...</th>\n",
       "      <td>...</td>\n",
       "      <td>...</td>\n",
       "      <td>...</td>\n",
       "      <td>...</td>\n",
       "      <td>...</td>\n",
       "      <td>...</td>\n",
       "      <td>...</td>\n",
       "      <td>...</td>\n",
       "      <td>...</td>\n",
       "      <td>...</td>\n",
       "      <td>...</td>\n",
       "      <td>...</td>\n",
       "      <td>...</td>\n",
       "      <td>...</td>\n",
       "      <td>...</td>\n",
       "      <td>...</td>\n",
       "    </tr>\n",
       "    <tr>\n",
       "      <th>427</th>\n",
       "      <td>428</td>\n",
       "      <td>67.0</td>\n",
       "      <td>2</td>\n",
       "      <td>70.0</td>\n",
       "      <td>164</td>\n",
       "      <td>2</td>\n",
       "      <td>5</td>\n",
       "      <td>1.0</td>\n",
       "      <td>5</td>\n",
       "      <td>4</td>\n",
       "      <td>1</td>\n",
       "      <td>3</td>\n",
       "      <td>8</td>\n",
       "      <td>2</td>\n",
       "      <td>30</td>\n",
       "      <td>1</td>\n",
       "    </tr>\n",
       "    <tr>\n",
       "      <th>428</th>\n",
       "      <td>429</td>\n",
       "      <td>55.0</td>\n",
       "      <td>1</td>\n",
       "      <td>65.0</td>\n",
       "      <td>176</td>\n",
       "      <td>1</td>\n",
       "      <td>2</td>\n",
       "      <td>4.0</td>\n",
       "      <td>1</td>\n",
       "      <td>2</td>\n",
       "      <td>4</td>\n",
       "      <td>3</td>\n",
       "      <td>6</td>\n",
       "      <td>2</td>\n",
       "      <td>1</td>\n",
       "      <td>4</td>\n",
       "    </tr>\n",
       "    <tr>\n",
       "      <th>429</th>\n",
       "      <td>430</td>\n",
       "      <td>54.0</td>\n",
       "      <td>1</td>\n",
       "      <td>80.0</td>\n",
       "      <td>172</td>\n",
       "      <td>1</td>\n",
       "      <td>2</td>\n",
       "      <td>3.0</td>\n",
       "      <td>2</td>\n",
       "      <td>2</td>\n",
       "      <td>3</td>\n",
       "      <td>3</td>\n",
       "      <td>7</td>\n",
       "      <td>1</td>\n",
       "      <td>100</td>\n",
       "      <td>2</td>\n",
       "    </tr>\n",
       "    <tr>\n",
       "      <th>430</th>\n",
       "      <td>431</td>\n",
       "      <td>55.0</td>\n",
       "      <td>2</td>\n",
       "      <td>54.0</td>\n",
       "      <td>158</td>\n",
       "      <td>2</td>\n",
       "      <td>5</td>\n",
       "      <td>0.0</td>\n",
       "      <td>5</td>\n",
       "      <td>4</td>\n",
       "      <td>4</td>\n",
       "      <td>4</td>\n",
       "      <td>6</td>\n",
       "      <td>2</td>\n",
       "      <td>0</td>\n",
       "      <td>1</td>\n",
       "    </tr>\n",
       "    <tr>\n",
       "      <th>431</th>\n",
       "      <td>432</td>\n",
       "      <td>56.0</td>\n",
       "      <td>1</td>\n",
       "      <td>88.0</td>\n",
       "      <td>174</td>\n",
       "      <td>1</td>\n",
       "      <td>2</td>\n",
       "      <td>5.0</td>\n",
       "      <td>2</td>\n",
       "      <td>4</td>\n",
       "      <td>4</td>\n",
       "      <td>3</td>\n",
       "      <td>8</td>\n",
       "      <td>1</td>\n",
       "      <td>100</td>\n",
       "      <td>4</td>\n",
       "    </tr>\n",
       "  </tbody>\n",
       "</table>\n",
       "<p>432 rows × 16 columns</p>\n",
       "</div>"
      ],
      "text/plain": [
       "      id   age  sex  weight  hight  smoke  drinking_freq  month_drinking_freq  \\\n",
       "0      1  23.0    1   107.0    192      1              2                  4.0   \n",
       "1      2  22.0    2    49.0    160      1              2                  5.0   \n",
       "2      3  23.0    1    56.0    175      1              2                  8.0   \n",
       "3      4  21.0    2    53.0    170      2              2                  4.0   \n",
       "4      5  53.0    2    57.0    162      2              3                  1.0   \n",
       "..   ...   ...  ...     ...    ...    ...            ...                  ...   \n",
       "427  428  67.0    2    70.0    164      2              5                  1.0   \n",
       "428  429  55.0    1    65.0    176      1              2                  4.0   \n",
       "429  430  54.0    1    80.0    172      1              2                  3.0   \n",
       "430  431  55.0    2    54.0    158      2              5                  0.0   \n",
       "431  432  56.0    1    88.0    174      1              2                  5.0   \n",
       "\n",
       "     drinking_legth  parent_freq  eating_2  stress_level  sleep_length  \\\n",
       "0                 3            1         2             4             7   \n",
       "1                 2            1         1             3             7   \n",
       "2                 3            3         1             3             8   \n",
       "3                 2            4         2             3             8   \n",
       "4                 2            3         4             2             6   \n",
       "..              ...          ...       ...           ...           ...   \n",
       "427               5            4         1             3             8   \n",
       "428               1            2         4             3             6   \n",
       "429               2            2         3             3             7   \n",
       "430               5            4         4             4             6   \n",
       "431               2            4         4             3             8   \n",
       "\n",
       "     liver_cond  tolerance  workout_freq  \n",
       "0             2         12             2  \n",
       "1             2          3             3  \n",
       "2             2          8             4  \n",
       "3             2          2             4  \n",
       "4             2         50             3  \n",
       "..          ...        ...           ...  \n",
       "427           2         30             1  \n",
       "428           2          1             4  \n",
       "429           1        100             2  \n",
       "430           2          0             1  \n",
       "431           1        100             4  \n",
       "\n",
       "[432 rows x 16 columns]"
      ]
     },
     "execution_count": 402,
     "metadata": {},
     "output_type": "execute_result"
    }
   ],
   "source": [
    "\n",
    "df = pd.read_excel('data_432.xlsx')\n",
    "df"
   ]
  },
  {
   "cell_type": "code",
   "execution_count": 403,
   "metadata": {},
   "outputs": [
    {
     "data": {
      "text/plain": [
       "9.263803680981596"
      ]
     },
     "execution_count": 403,
     "metadata": {},
     "output_type": "execute_result"
    }
   ],
   "source": [
    "df[(df[\"sex\"] == 2)&(df[\"tolerance\"]<=30)][\"tolerance\"].mean()"
   ]
  },
  {
   "cell_type": "code",
   "execution_count": 404,
   "metadata": {},
   "outputs": [],
   "source": [
    "df = df.dropna()"
   ]
  },
  {
   "cell_type": "code",
   "execution_count": 405,
   "metadata": {},
   "outputs": [
    {
     "data": {
      "text/html": [
       "<div>\n",
       "<style scoped>\n",
       "    .dataframe tbody tr th:only-of-type {\n",
       "        vertical-align: middle;\n",
       "    }\n",
       "\n",
       "    .dataframe tbody tr th {\n",
       "        vertical-align: top;\n",
       "    }\n",
       "\n",
       "    .dataframe thead th {\n",
       "        text-align: right;\n",
       "    }\n",
       "</style>\n",
       "<table border=\"1\" class=\"dataframe\">\n",
       "  <thead>\n",
       "    <tr style=\"text-align: right;\">\n",
       "      <th></th>\n",
       "      <th>id</th>\n",
       "      <th>age</th>\n",
       "      <th>sex</th>\n",
       "      <th>weight</th>\n",
       "      <th>hight</th>\n",
       "      <th>smoke</th>\n",
       "      <th>drinking_freq</th>\n",
       "      <th>month_drinking_freq</th>\n",
       "      <th>drinking_legth</th>\n",
       "      <th>parent_freq</th>\n",
       "      <th>eating_2</th>\n",
       "      <th>stress_level</th>\n",
       "      <th>sleep_length</th>\n",
       "      <th>liver_cond</th>\n",
       "      <th>tolerance</th>\n",
       "      <th>workout_freq</th>\n",
       "    </tr>\n",
       "  </thead>\n",
       "  <tbody>\n",
       "  </tbody>\n",
       "</table>\n",
       "</div>"
      ],
      "text/plain": [
       "Empty DataFrame\n",
       "Columns: [id, age, sex, weight, hight, smoke, drinking_freq, month_drinking_freq, drinking_legth, parent_freq, eating_2, stress_level, sleep_length, liver_cond, tolerance, workout_freq]\n",
       "Index: []"
      ]
     },
     "execution_count": 405,
     "metadata": {},
     "output_type": "execute_result"
    }
   ],
   "source": [
    "# check all the free response questions\n",
    "# fix the value manually in excel\n",
    "# Check age range\n",
    "df[~df['age'].isin(range(1,101))]"
   ]
  },
  {
   "cell_type": "code",
   "execution_count": 406,
   "metadata": {},
   "outputs": [
    {
     "data": {
      "text/html": [
       "<div>\n",
       "<style scoped>\n",
       "    .dataframe tbody tr th:only-of-type {\n",
       "        vertical-align: middle;\n",
       "    }\n",
       "\n",
       "    .dataframe tbody tr th {\n",
       "        vertical-align: top;\n",
       "    }\n",
       "\n",
       "    .dataframe thead th {\n",
       "        text-align: right;\n",
       "    }\n",
       "</style>\n",
       "<table border=\"1\" class=\"dataframe\">\n",
       "  <thead>\n",
       "    <tr style=\"text-align: right;\">\n",
       "      <th></th>\n",
       "      <th>id</th>\n",
       "      <th>age</th>\n",
       "      <th>sex</th>\n",
       "      <th>weight</th>\n",
       "      <th>hight</th>\n",
       "      <th>smoke</th>\n",
       "      <th>drinking_freq</th>\n",
       "      <th>month_drinking_freq</th>\n",
       "      <th>drinking_legth</th>\n",
       "      <th>parent_freq</th>\n",
       "      <th>eating_2</th>\n",
       "      <th>stress_level</th>\n",
       "      <th>sleep_length</th>\n",
       "      <th>liver_cond</th>\n",
       "      <th>tolerance</th>\n",
       "      <th>workout_freq</th>\n",
       "    </tr>\n",
       "  </thead>\n",
       "  <tbody>\n",
       "  </tbody>\n",
       "</table>\n",
       "</div>"
      ],
      "text/plain": [
       "Empty DataFrame\n",
       "Columns: [id, age, sex, weight, hight, smoke, drinking_freq, month_drinking_freq, drinking_legth, parent_freq, eating_2, stress_level, sleep_length, liver_cond, tolerance, workout_freq]\n",
       "Index: []"
      ]
     },
     "execution_count": 406,
     "metadata": {},
     "output_type": "execute_result"
    }
   ],
   "source": [
    "# Check weight range\n",
    "df[~((df['weight'] > 0) & (df['weight'] < 200))] "
   ]
  },
  {
   "cell_type": "code",
   "execution_count": 407,
   "metadata": {},
   "outputs": [
    {
     "data": {
      "text/html": [
       "<div>\n",
       "<style scoped>\n",
       "    .dataframe tbody tr th:only-of-type {\n",
       "        vertical-align: middle;\n",
       "    }\n",
       "\n",
       "    .dataframe tbody tr th {\n",
       "        vertical-align: top;\n",
       "    }\n",
       "\n",
       "    .dataframe thead th {\n",
       "        text-align: right;\n",
       "    }\n",
       "</style>\n",
       "<table border=\"1\" class=\"dataframe\">\n",
       "  <thead>\n",
       "    <tr style=\"text-align: right;\">\n",
       "      <th></th>\n",
       "      <th>id</th>\n",
       "      <th>age</th>\n",
       "      <th>sex</th>\n",
       "      <th>weight</th>\n",
       "      <th>hight</th>\n",
       "      <th>smoke</th>\n",
       "      <th>drinking_freq</th>\n",
       "      <th>month_drinking_freq</th>\n",
       "      <th>drinking_legth</th>\n",
       "      <th>parent_freq</th>\n",
       "      <th>eating_2</th>\n",
       "      <th>stress_level</th>\n",
       "      <th>sleep_length</th>\n",
       "      <th>liver_cond</th>\n",
       "      <th>tolerance</th>\n",
       "      <th>workout_freq</th>\n",
       "    </tr>\n",
       "  </thead>\n",
       "  <tbody>\n",
       "  </tbody>\n",
       "</table>\n",
       "</div>"
      ],
      "text/plain": [
       "Empty DataFrame\n",
       "Columns: [id, age, sex, weight, hight, smoke, drinking_freq, month_drinking_freq, drinking_legth, parent_freq, eating_2, stress_level, sleep_length, liver_cond, tolerance, workout_freq]\n",
       "Index: []"
      ]
     },
     "execution_count": 407,
     "metadata": {},
     "output_type": "execute_result"
    }
   ],
   "source": [
    "# Check hight range, fix the error manually\n",
    "df[~((df['hight'] > 0) & (df['hight'] < 220))] "
   ]
  },
  {
   "cell_type": "code",
   "execution_count": 408,
   "metadata": {},
   "outputs": [
    {
     "data": {
      "text/html": [
       "<div>\n",
       "<style scoped>\n",
       "    .dataframe tbody tr th:only-of-type {\n",
       "        vertical-align: middle;\n",
       "    }\n",
       "\n",
       "    .dataframe tbody tr th {\n",
       "        vertical-align: top;\n",
       "    }\n",
       "\n",
       "    .dataframe thead th {\n",
       "        text-align: right;\n",
       "    }\n",
       "</style>\n",
       "<table border=\"1\" class=\"dataframe\">\n",
       "  <thead>\n",
       "    <tr style=\"text-align: right;\">\n",
       "      <th></th>\n",
       "      <th>id</th>\n",
       "      <th>age</th>\n",
       "      <th>sex</th>\n",
       "      <th>weight</th>\n",
       "      <th>hight</th>\n",
       "      <th>smoke</th>\n",
       "      <th>drinking_freq</th>\n",
       "      <th>month_drinking_freq</th>\n",
       "      <th>drinking_legth</th>\n",
       "      <th>parent_freq</th>\n",
       "      <th>eating_2</th>\n",
       "      <th>stress_level</th>\n",
       "      <th>sleep_length</th>\n",
       "      <th>liver_cond</th>\n",
       "      <th>tolerance</th>\n",
       "      <th>workout_freq</th>\n",
       "    </tr>\n",
       "  </thead>\n",
       "  <tbody>\n",
       "  </tbody>\n",
       "</table>\n",
       "</div>"
      ],
      "text/plain": [
       "Empty DataFrame\n",
       "Columns: [id, age, sex, weight, hight, smoke, drinking_freq, month_drinking_freq, drinking_legth, parent_freq, eating_2, stress_level, sleep_length, liver_cond, tolerance, workout_freq]\n",
       "Index: []"
      ]
     },
     "execution_count": 408,
     "metadata": {},
     "output_type": "execute_result"
    }
   ],
   "source": [
    "# Check drinking_freq range, fix the error manually\n",
    "df[~((df['drinking_freq'] > 0) & (df['drinking_freq'] < 31))] "
   ]
  },
  {
   "cell_type": "code",
   "execution_count": 409,
   "metadata": {},
   "outputs": [
    {
     "data": {
      "text/html": [
       "<div>\n",
       "<style scoped>\n",
       "    .dataframe tbody tr th:only-of-type {\n",
       "        vertical-align: middle;\n",
       "    }\n",
       "\n",
       "    .dataframe tbody tr th {\n",
       "        vertical-align: top;\n",
       "    }\n",
       "\n",
       "    .dataframe thead th {\n",
       "        text-align: right;\n",
       "    }\n",
       "</style>\n",
       "<table border=\"1\" class=\"dataframe\">\n",
       "  <thead>\n",
       "    <tr style=\"text-align: right;\">\n",
       "      <th></th>\n",
       "      <th>id</th>\n",
       "      <th>age</th>\n",
       "      <th>sex</th>\n",
       "      <th>weight</th>\n",
       "      <th>hight</th>\n",
       "      <th>smoke</th>\n",
       "      <th>drinking_freq</th>\n",
       "      <th>month_drinking_freq</th>\n",
       "      <th>drinking_legth</th>\n",
       "      <th>parent_freq</th>\n",
       "      <th>eating_2</th>\n",
       "      <th>stress_level</th>\n",
       "      <th>sleep_length</th>\n",
       "      <th>liver_cond</th>\n",
       "      <th>tolerance</th>\n",
       "      <th>workout_freq</th>\n",
       "    </tr>\n",
       "  </thead>\n",
       "  <tbody>\n",
       "  </tbody>\n",
       "</table>\n",
       "</div>"
      ],
      "text/plain": [
       "Empty DataFrame\n",
       "Columns: [id, age, sex, weight, hight, smoke, drinking_freq, month_drinking_freq, drinking_legth, parent_freq, eating_2, stress_level, sleep_length, liver_cond, tolerance, workout_freq]\n",
       "Index: []"
      ]
     },
     "execution_count": 409,
     "metadata": {},
     "output_type": "execute_result"
    }
   ],
   "source": [
    "# Check sleep_length range, fix the error manually\n",
    "df[~((df['sleep_length'] > 0) & (df['sleep_length'] < 15))] "
   ]
  },
  {
   "cell_type": "code",
   "execution_count": 410,
   "metadata": {},
   "outputs": [
    {
     "data": {
      "text/html": [
       "<div>\n",
       "<style scoped>\n",
       "    .dataframe tbody tr th:only-of-type {\n",
       "        vertical-align: middle;\n",
       "    }\n",
       "\n",
       "    .dataframe tbody tr th {\n",
       "        vertical-align: top;\n",
       "    }\n",
       "\n",
       "    .dataframe thead th {\n",
       "        text-align: right;\n",
       "    }\n",
       "</style>\n",
       "<table border=\"1\" class=\"dataframe\">\n",
       "  <thead>\n",
       "    <tr style=\"text-align: right;\">\n",
       "      <th></th>\n",
       "      <th>id</th>\n",
       "      <th>age</th>\n",
       "      <th>sex</th>\n",
       "      <th>weight</th>\n",
       "      <th>hight</th>\n",
       "      <th>smoke</th>\n",
       "      <th>drinking_freq</th>\n",
       "      <th>month_drinking_freq</th>\n",
       "      <th>drinking_legth</th>\n",
       "      <th>parent_freq</th>\n",
       "      <th>eating_2</th>\n",
       "      <th>stress_level</th>\n",
       "      <th>sleep_length</th>\n",
       "      <th>liver_cond</th>\n",
       "      <th>tolerance</th>\n",
       "      <th>workout_freq</th>\n",
       "    </tr>\n",
       "  </thead>\n",
       "  <tbody>\n",
       "  </tbody>\n",
       "</table>\n",
       "</div>"
      ],
      "text/plain": [
       "Empty DataFrame\n",
       "Columns: [id, age, sex, weight, hight, smoke, drinking_freq, month_drinking_freq, drinking_legth, parent_freq, eating_2, stress_level, sleep_length, liver_cond, tolerance, workout_freq]\n",
       "Index: []"
      ]
     },
     "execution_count": 410,
     "metadata": {},
     "output_type": "execute_result"
    }
   ],
   "source": [
    "# Check tolerance range, fix the error manually\n",
    "df[~((df['tolerance'] >= 0) & (df['tolerance'] <= 100))] "
   ]
  },
  {
   "cell_type": "code",
   "execution_count": 411,
   "metadata": {},
   "outputs": [
    {
     "data": {
      "image/png": "[encoded data removed]",
      "text/plain": [
       "<Figure size 1080x864 with 15 Axes>"
      ]
     },
     "metadata": {},
     "output_type": "display_data"
    }
   ],
   "source": [
    "# doning some feature engineering\n",
    "plt.figure(figsize=(15, 12), facecolor='w')\n",
    "\n",
    "for i, column in enumerate(df.columns[1:], 1):\n",
    "    plt.subplot(4, 4, i)\n",
    "    plt.hist(df[column], bins=20, color='skyblue', edgecolor='black')\n",
    "    plt.title(column)\n",
    "\n",
    "plt.tight_layout()\n",
    "plt.show()"
   ]
  },
  {
   "cell_type": "code",
   "execution_count": 412,
   "metadata": {},
   "outputs": [],
   "source": [
    "# data cleanning step 2\n",
    "# remove people Rarely drink but their tolerance is higher than 50\n",
    "df = df[~((df[\"drinking_freq\"] == 5) & (df[\"tolerance\"] > 50))]\n",
    "\n",
    "\n",
    "\n",
    "# drop stress_level feature because it is not a good feature to predict tolerance\n",
    "df = df.drop(columns=[\"stress_level\"]) \n",
    "\n",
    "# drop the id column\n",
    "df = df.drop(columns=[\"id\"])"
   ]
  },
  {
   "cell_type": "code",
   "execution_count": 413,
   "metadata": {},
   "outputs": [
    {
     "data": {
      "text/plain": [
       "(array([136.,  77.,  59.,   9.,  15.,   2.,  38.,   2.,   4.,   0.,  11.,\n",
       "          0.,   4.,   0.,   2.,   2.,   4.,   1.,   1.,  41.]),\n",
       " array([  0.,   5.,  10.,  15.,  20.,  25.,  30.,  35.,  40.,  45.,  50.,\n",
       "         55.,  60.,  65.,  70.,  75.,  80.,  85.,  90.,  95., 100.]),\n",
       " <BarContainer object of 20 artists>)"
      ]
     },
     "execution_count": 413,
     "metadata": {},
     "output_type": "execute_result"
    },
    {
     "data": {
      "image/png": "[encoded data removed]",
      "text/plain": [
       "<Figure size 720x432 with 1 Axes>"
      ]
     },
     "metadata": {},
     "output_type": "display_data"
    }
   ],
   "source": [
    "plt.figure(figsize=(10,6),facecolor='white')\n",
    "plt.hist(df[\"tolerance\"],bins=20)"
   ]
  },
  {
   "cell_type": "code",
   "execution_count": 414,
   "metadata": {},
   "outputs": [],
   "source": [
    "# convert multiple choice answers to categorie values\n",
    "df.loc[df[\"smoke\"] == 2, \"smoke\"] = 0 \n",
    "df.loc[df[\"sex\"] == 1, \"sex\"] = \"Male\"\n",
    "df.loc[df[\"sex\"] == 2, \"sex\"]= \"Female\"\n",
    "\n",
    "\n",
    "df.loc[df[\"drinking_freq\"] == 1, \"drinking_freq\"] = \"Daily\"\n",
    "df.loc[df[\"drinking_freq\"] == 2, \"drinking_freq\"] = \"Weekly\"\n",
    "df.loc[df[\"drinking_freq\"] == 3, \"drinking_freq\"] = \"Monthly\"\n",
    "df.loc[df[\"drinking_freq\"] == 4, \"drinking_freq\"] = \"Yearly\"\n",
    "df.loc[df[\"drinking_freq\"] == 5, \"drinking_freq\"] = \"Rarely\"\n",
    "\n",
    "df.loc[df[\"parent_freq\"] == 1, \"parent_freq\"] = \"Very often\"\n",
    "df.loc[df[\"parent_freq\"] == 2, \"parent_freq\"] = \"Often\"\n",
    "df.loc[df[\"parent_freq\"] == 3, \"parent_freq\"] = \"Not often\"\n",
    "df.loc[df[\"parent_freq\"] == 4, \"parent_freq\"] = \"Barely\"\n",
    "df.loc[df[\"parent_freq\"] == 5, \"parent_freq\"] = \"Never\"\n",
    "\n",
    "df.loc[df[\"eating_2\"] == 1, \"eating_2\"] = \"Always\"\n",
    "df.loc[df[\"eating_2\"] == 2, \"eating_2\"] = \"Often\"\n",
    "df.loc[df[\"eating_2\"] == 3, \"eating_2\"] = \"Sometimes\"\n",
    "df.loc[df[\"eating_2\"] == 4, \"eating_2\"] = \"Never\"\n",
    "\n",
    "df.loc[df[\"liver_cond\"] == 2, \"liver_cond\"] = 0 \n",
    "\n",
    "df.loc[df[\"workout_freq\"] == 1, \"workout_freq\"] = \"Very often\"\n",
    "df.loc[df[\"workout_freq\"] == 2, \"workout_freq\"] = \"Often\"\n",
    "df.loc[df[\"workout_freq\"] == 3, \"workout_freq\"] = \"Not often\"\n",
    "df.loc[df[\"workout_freq\"] == 4, \"workout_freq\"] = \"Barely\"\n",
    "df.loc[df[\"workout_freq\"] == 5, \"workout_freq\"] = \"Never\""
   ]
  },
  {
   "cell_type": "code",
   "execution_count": 415,
   "metadata": {},
   "outputs": [],
   "source": [
    "df['tol_cat'] = df['tolerance'].apply(lambda x : \"poor\" if x < 2 else (\"average\" if x < 5 else (\"ok\" if x < 10 else (\"good\" if x < 18 else ('\"excellent\"' if x < 25 else \"outstanding\")))))"
   ]
  },
  {
   "cell_type": "markdown",
   "metadata": {},
   "source": [
    "## Part 2\n",
    "Molding\n",
    "\n",
    "Split Traning Set and Testing Set"
   ]
  },
  {
   "cell_type": "code",
   "execution_count": 416,
   "metadata": {},
   "outputs": [],
   "source": [
    "y = df['tol_cat']\n",
    "x = pd.get_dummies(df.drop(['tol_cat'], axis=1))\n",
    "x_train, x_test, y_train, y_test = train_test_split(x, y, test_size=0.45)"
   ]
  },
  {
   "cell_type": "markdown",
   "metadata": {},
   "source": [
    "## Multiclass Logistic Regression"
   ]
  },
  {
   "cell_type": "code",
   "execution_count": 417,
   "metadata": {},
   "outputs": [
    {
     "data": {
      "text/plain": [
       "LogisticRegression(max_iter=10000, multi_class='multinomial')"
      ]
     },
     "execution_count": 417,
     "metadata": {},
     "output_type": "execute_result"
    }
   ],
   "source": [
    "from sklearn.linear_model import LogisticRegression \n",
    "from sklearn.metrics import confusion_matrix, accuracy_score\n",
    "\n",
    "logreg = LogisticRegression(multi_class='multinomial', solver='lbfgs', max_iter=10000)\n",
    "logreg.fit(x_train, y_train)"
   ]
  },
  {
   "cell_type": "markdown",
   "metadata": {},
   "source": [
    "#### Check our accuracy on testing data for Multclass logistic regression"
   ]
  },
  {
   "cell_type": "code",
   "execution_count": 418,
   "metadata": {},
   "outputs": [
    {
     "name": "stdout",
     "output_type": "stream",
     "text": [
      "Confusion Matrix : \n",
      " [[ 5  0  3  0  0  0]\n",
      " [ 0 34  0  0  0  3]\n",
      " [ 0  0 30  0  0  0]\n",
      " [ 0  7  2 30  0  0]\n",
      " [ 1  0  0  0 48  0]\n",
      " [ 0  3  0  0  0 18]]\n",
      "Accuracy on test set: 0.8967391304347826\n"
     ]
    }
   ],
   "source": [
    "y_pred = logreg.predict(x_test)\n",
    "accuracy_log = accuracy_score(y_test, y_pred)\n",
    "cm = confusion_matrix(y_test, y_pred)\n",
    "\n",
    "print(\"Confusion Matrix : \\n\", cm)\n",
    "print(f\"Accuracy on test set: {accuracy_log}\")"
   ]
  },
  {
   "cell_type": "markdown",
   "metadata": {},
   "source": [
    "## Random Forest\n",
    "\n",
    "1. use cv to find max feature"
   ]
  },
  {
   "cell_type": "code",
   "execution_count": 419,
   "metadata": {},
   "outputs": [
    {
     "name": "stdout",
     "output_type": "stream",
     "text": [
      "Fitting 5 folds for each of 16 candidates, totalling 80 fits\n",
      "[CV] END max_features=1, min_samples_leaf=5, n_estimators=500, random_state=88; total time=   0.4s\n",
      "[CV] END max_features=1, min_samples_leaf=5, n_estimators=500, random_state=88; total time=   0.3s\n",
      "[CV] END max_features=1, min_samples_leaf=5, n_estimators=500, random_state=88; total time=   0.3s\n",
      "[CV] END max_features=1, min_samples_leaf=5, n_estimators=500, random_state=88; total time=   0.3s\n",
      "[CV] END max_features=1, min_samples_leaf=5, n_estimators=500, random_state=88; total time=   0.3s\n",
      "[CV] END max_features=2, min_samples_leaf=5, n_estimators=500, random_state=88; total time=   0.4s\n",
      "[CV] END max_features=2, min_samples_leaf=5, n_estimators=500, random_state=88; total time=   0.3s\n",
      "[CV] END max_features=2, min_samples_leaf=5, n_estimators=500, random_state=88; total time=   0.3s\n",
      "[CV] END max_features=2, min_samples_leaf=5, n_estimators=500, random_state=88; total time=   0.3s\n",
      "[CV] END max_features=2, min_samples_leaf=5, n_estimators=500, random_state=88; total time=   0.3s\n",
      "[CV] END max_features=3, min_samples_leaf=5, n_estimators=500, random_state=88; total time=   0.4s\n",
      "[CV] END max_features=3, min_samples_leaf=5, n_estimators=500, random_state=88; total time=   0.4s\n",
      "[CV] END max_features=3, min_samples_leaf=5, n_estimators=500, random_state=88; total time=   0.4s\n",
      "[CV] END max_features=3, min_samples_leaf=5, n_estimators=500, random_state=88; total time=   0.4s\n",
      "[CV] END max_features=3, min_samples_leaf=5, n_estimators=500, random_state=88; total time=   0.3s\n",
      "[CV] END max_features=4, min_samples_leaf=5, n_estimators=500, random_state=88; total time=   0.3s\n",
      "[CV] END max_features=4, min_samples_leaf=5, n_estimators=500, random_state=88; total time=   0.3s\n",
      "[CV] END max_features=4, min_samples_leaf=5, n_estimators=500, random_state=88; total time=   0.3s\n",
      "[CV] END max_features=4, min_samples_leaf=5, n_estimators=500, random_state=88; total time=   0.3s\n",
      "[CV] END max_features=4, min_samples_leaf=5, n_estimators=500, random_state=88; total time=   0.3s\n",
      "[CV] END max_features=5, min_samples_leaf=5, n_estimators=500, random_state=88; total time=   0.3s\n",
      "[CV] END max_features=5, min_samples_leaf=5, n_estimators=500, random_state=88; total time=   0.4s\n",
      "[CV] END max_features=5, min_samples_leaf=5, n_estimators=500, random_state=88; total time=   0.3s\n",
      "[CV] END max_features=5, min_samples_leaf=5, n_estimators=500, random_state=88; total time=   0.4s\n",
      "[CV] END max_features=5, min_samples_leaf=5, n_estimators=500, random_state=88; total time=   0.3s\n",
      "[CV] END max_features=6, min_samples_leaf=5, n_estimators=500, random_state=88; total time=   0.3s\n",
      "[CV] END max_features=6, min_samples_leaf=5, n_estimators=500, random_state=88; total time=   0.3s\n",
      "[CV] END max_features=6, min_samples_leaf=5, n_estimators=500, random_state=88; total time=   0.3s\n",
      "[CV] END max_features=6, min_samples_leaf=5, n_estimators=500, random_state=88; total time=   0.4s\n",
      "[CV] END max_features=6, min_samples_leaf=5, n_estimators=500, random_state=88; total time=   0.3s\n",
      "[CV] END max_features=7, min_samples_leaf=5, n_estimators=500, random_state=88; total time=   0.3s\n",
      "[CV] END max_features=7, min_samples_leaf=5, n_estimators=500, random_state=88; total time=   0.3s\n",
      "[CV] END max_features=7, min_samples_leaf=5, n_estimators=500, random_state=88; total time=   0.3s\n",
      "[CV] END max_features=7, min_samples_leaf=5, n_estimators=500, random_state=88; total time=   0.4s\n",
      "[CV] END max_features=7, min_samples_leaf=5, n_estimators=500, random_state=88; total time=   0.3s\n",
      "[CV] END max_features=8, min_samples_leaf=5, n_estimators=500, random_state=88; total time=   0.4s\n",
      "[CV] END max_features=8, min_samples_leaf=5, n_estimators=500, random_state=88; total time=   0.3s\n",
      "[CV] END max_features=8, min_samples_leaf=5, n_estimators=500, random_state=88; total time=   0.4s\n",
      "[CV] END max_features=8, min_samples_leaf=5, n_estimators=500, random_state=88; total time=   0.4s\n",
      "[CV] END max_features=8, min_samples_leaf=5, n_estimators=500, random_state=88; total time=   0.4s\n",
      "[CV] END max_features=9, min_samples_leaf=5, n_estimators=500, random_state=88; total time=   0.4s\n",
      "[CV] END max_features=9, min_samples_leaf=5, n_estimators=500, random_state=88; total time=   0.3s\n",
      "[CV] END max_features=9, min_samples_leaf=5, n_estimators=500, random_state=88; total time=   0.4s\n",
      "[CV] END max_features=9, min_samples_leaf=5, n_estimators=500, random_state=88; total time=   0.4s\n",
      "[CV] END max_features=9, min_samples_leaf=5, n_estimators=500, random_state=88; total time=   0.3s\n",
      "[CV] END max_features=10, min_samples_leaf=5, n_estimators=500, random_state=88; total time=   0.3s\n",
      "[CV] END max_features=10, min_samples_leaf=5, n_estimators=500, random_state=88; total time=   0.3s\n",
      "[CV] END max_features=10, min_samples_leaf=5, n_estimators=500, random_state=88; total time=   0.3s\n",
      "[CV] END max_features=10, min_samples_leaf=5, n_estimators=500, random_state=88; total time=   0.3s\n",
      "[CV] END max_features=10, min_samples_leaf=5, n_estimators=500, random_state=88; total time=   0.4s\n",
      "[CV] END max_features=11, min_samples_leaf=5, n_estimators=500, random_state=88; total time=   0.3s\n",
      "[CV] END max_features=11, min_samples_leaf=5, n_estimators=500, random_state=88; total time=   0.4s\n",
      "[CV] END max_features=11, min_samples_leaf=5, n_estimators=500, random_state=88; total time=   0.3s\n",
      "[CV] END max_features=11, min_samples_leaf=5, n_estimators=500, random_state=88; total time=   0.3s\n",
      "[CV] END max_features=11, min_samples_leaf=5, n_estimators=500, random_state=88; total time=   0.3s\n",
      "[CV] END max_features=12, min_samples_leaf=5, n_estimators=500, random_state=88; total time=   0.3s\n",
      "[CV] END max_features=12, min_samples_leaf=5, n_estimators=500, random_state=88; total time=   0.3s\n",
      "[CV] END max_features=12, min_samples_leaf=5, n_estimators=500, random_state=88; total time=   0.3s\n",
      "[CV] END max_features=12, min_samples_leaf=5, n_estimators=500, random_state=88; total time=   0.4s\n",
      "[CV] END max_features=12, min_samples_leaf=5, n_estimators=500, random_state=88; total time=   0.3s\n",
      "[CV] END max_features=13, min_samples_leaf=5, n_estimators=500, random_state=88; total time=   0.4s\n",
      "[CV] END max_features=13, min_samples_leaf=5, n_estimators=500, random_state=88; total time=   0.4s\n",
      "[CV] END max_features=13, min_samples_leaf=5, n_estimators=500, random_state=88; total time=   0.4s\n",
      "[CV] END max_features=13, min_samples_leaf=5, n_estimators=500, random_state=88; total time=   0.4s\n",
      "[CV] END max_features=13, min_samples_leaf=5, n_estimators=500, random_state=88; total time=   0.5s\n",
      "[CV] END max_features=14, min_samples_leaf=5, n_estimators=500, random_state=88; total time=   0.4s\n",
      "[CV] END max_features=14, min_samples_leaf=5, n_estimators=500, random_state=88; total time=   0.5s\n",
      "[CV] END max_features=14, min_samples_leaf=5, n_estimators=500, random_state=88; total time=   0.4s\n",
      "[CV] END max_features=14, min_samples_leaf=5, n_estimators=500, random_state=88; total time=   0.4s\n",
      "[CV] END max_features=14, min_samples_leaf=5, n_estimators=500, random_state=88; total time=   0.3s\n",
      "[CV] END max_features=15, min_samples_leaf=5, n_estimators=500, random_state=88; total time=   0.4s\n",
      "[CV] END max_features=15, min_samples_leaf=5, n_estimators=500, random_state=88; total time=   0.3s\n",
      "[CV] END max_features=15, min_samples_leaf=5, n_estimators=500, random_state=88; total time=   0.4s\n",
      "[CV] END max_features=15, min_samples_leaf=5, n_estimators=500, random_state=88; total time=   0.4s\n",
      "[CV] END max_features=15, min_samples_leaf=5, n_estimators=500, random_state=88; total time=   0.4s\n",
      "[CV] END max_features=16, min_samples_leaf=5, n_estimators=500, random_state=88; total time=   0.4s\n",
      "[CV] END max_features=16, min_samples_leaf=5, n_estimators=500, random_state=88; total time=   0.3s\n",
      "[CV] END max_features=16, min_samples_leaf=5, n_estimators=500, random_state=88; total time=   0.4s\n",
      "[CV] END max_features=16, min_samples_leaf=5, n_estimators=500, random_state=88; total time=   0.3s\n",
      "[CV] END max_features=16, min_samples_leaf=5, n_estimators=500, random_state=88; total time=   0.4s\n"
     ]
    },
    {
     "data": {
      "text/plain": [
       "GridSearchCV(cv=KFold(n_splits=5, random_state=None, shuffle=True),\n",
       "             estimator=RandomForestClassifier(),\n",
       "             param_grid={'max_features': array([ 1,  2,  3,  4,  5,  6,  7,  8,  9, 10, 11, 12, 13, 14, 15, 16]),\n",
       "                         'min_samples_leaf': [5], 'n_estimators': [500],\n",
       "                         'random_state': [88]},\n",
       "             scoring='accuracy', verbose=2)"
      ]
     },
     "execution_count": 419,
     "metadata": {},
     "output_type": "execute_result"
    }
   ],
   "source": [
    "\n",
    "grid_values = {'max_features': np.linspace(1,16,16, dtype='int32'),\n",
    "               'min_samples_leaf': [5],\n",
    "               'n_estimators': [500],\n",
    "               'random_state': [88]} \n",
    "\n",
    "rf = RandomForestClassifier() \n",
    "\n",
    "# use 5-fold cross validation \n",
    "cv = KFold(n_splits=5, shuffle=True) \n",
    "rf_cv = GridSearchCV(rf, param_grid=grid_values, scoring='accuracy', cv=cv,verbose=2)\n",
    "rf_cv.fit(x_train, y_train)"
   ]
  },
  {
   "cell_type": "code",
   "execution_count": 420,
   "metadata": {},
   "outputs": [
    {
     "name": "stdout",
     "output_type": "stream",
     "text": [
      "Grid best parameter max_features (max. accuracy):  14\n",
      "Grid best score (accuracy):  0.9687878787878788\n"
     ]
    }
   ],
   "source": [
    "max_features = rf_cv.cv_results_['param_max_features'].data\n",
    "acc = rf_cv.cv_results_['mean_test_score']\n",
    "\n",
    "print('Grid best parameter max_features (max. accuracy): ', rf_cv.best_params_['max_features'])\n",
    "print('Grid best score (accuracy): ', rf_cv.best_score_)"
   ]
  },
  {
   "cell_type": "code",
   "execution_count": 421,
   "metadata": {},
   "outputs": [
    {
     "name": "stdout",
     "output_type": "stream",
     "text": [
      "Confusion Matrix : \n",
      " [[ 1  0  7  0  0  0]\n",
      " [ 0 37  0  0  0  0]\n",
      " [ 0  0 30  0  0  0]\n",
      " [ 0  0  0 39  0  0]\n",
      " [ 0  0  0  0 49  0]\n",
      " [ 0  3  0  0  0 18]]\n",
      "Accuracy on test set is: 0.9456521739130435\n"
     ]
    }
   ],
   "source": [
    "y_pred = rf_cv.best_estimator_.predict(x_test)\n",
    "cm = confusion_matrix(y_test, y_pred)\n",
    "accuracy_rf = accuracy_score(y_test, y_pred)\n",
    "\n",
    "print(\"Confusion Matrix : \\n\", cm)\n",
    "print(f\"Accuracy on test set is: {accuracy_rf}\")\n"
   ]
  },
  {
   "cell_type": "markdown",
   "metadata": {},
   "source": [
    "## CART Model"
   ]
  },
  {
   "cell_type": "code",
   "execution_count": 422,
   "metadata": {},
   "outputs": [
    {
     "name": "stdout",
     "output_type": "stream",
     "text": [
      "Fitting 5 folds for each of 201 candidates, totalling 1005 fits\n"
     ]
    },
    {
     "data": {
      "text/plain": [
       "GridSearchCV(cv=KFold(n_splits=5, random_state=None, shuffle=True),\n",
       "             estimator=DecisionTreeClassifier(),\n",
       "             param_grid={'ccp_alpha': array([0.    , 0.0005, 0.001 , 0.0015, 0.002 , 0.0025, 0.003 , 0.0035,\n",
       "       0.004 , 0.0045, 0.005 , 0.0055, 0.006 , 0.0065, 0.007 , 0.0075,\n",
       "       0.008 , 0.0085, 0.009 , 0.0095, 0.01  , 0.0105, 0.011 , 0.0115,\n",
       "       0.012 , 0.0125, 0.013 , 0.0135, 0.014 , 0.0145, 0.015 , 0.0155,\n",
       "       0.016 , 0.0165, 0....\n",
       "       0.08  , 0.0805, 0.081 , 0.0815, 0.082 , 0.0825, 0.083 , 0.0835,\n",
       "       0.084 , 0.0845, 0.085 , 0.0855, 0.086 , 0.0865, 0.087 , 0.0875,\n",
       "       0.088 , 0.0885, 0.089 , 0.0895, 0.09  , 0.0905, 0.091 , 0.0915,\n",
       "       0.092 , 0.0925, 0.093 , 0.0935, 0.094 , 0.0945, 0.095 , 0.0955,\n",
       "       0.096 , 0.0965, 0.097 , 0.0975, 0.098 , 0.0985, 0.099 , 0.0995,\n",
       "       0.1   ]),\n",
       "                         'max_depth': [30], 'min_samples_leaf': [5],\n",
       "                         'min_samples_split': [20], 'random_state': [88]},\n",
       "             scoring='accuracy', verbose=1)"
      ]
     },
     "execution_count": 422,
     "metadata": {},
     "output_type": "execute_result"
    }
   ],
   "source": [
    "grid_values = {'ccp_alpha': np.linspace(0, 0.10, 201),# the choice of alpha, ranging from 0 to 0.2\n",
    "               'min_samples_leaf': [5],\n",
    "               'min_samples_split': [20],\n",
    "               'max_depth': [30],\n",
    "               'random_state': [88]}\n",
    "\n",
    "            \n",
    "dtc = DecisionTreeClassifier()\n",
    "\n",
    "cv = KFold(n_splits=5,shuffle=True) \n",
    "\n",
    "dtc_cv_acc = GridSearchCV(dtc, param_grid = grid_values, scoring = 'accuracy', cv=cv, verbose=1) \n",
    "\n",
    "dtc_cv_acc.fit(x_train, y_train)"
   ]
  },
  {
   "cell_type": "code",
   "execution_count": 423,
   "metadata": {},
   "outputs": [
    {
     "name": "stdout",
     "output_type": "stream",
     "text": [
      "Grid best parameter ccp_alpha (max. accuracy):  0.0\n",
      "Grid best score (accuracy):  1.0\n",
      "Node count = 11\n"
     ]
    },
    {
     "data": {
      "image/png": "[encoded data removed]",
      "text/plain": [
       "<Figure size 1440x720 with 1 Axes>"
      ]
     },
     "metadata": {
      "needs_background": "light"
     },
     "output_type": "display_data"
    }
   ],
   "source": [
    "print('Grid best parameter ccp_alpha (max. accuracy): ', dtc_cv_acc.best_params_['ccp_alpha'])\n",
    "print('Grid best score (accuracy): ', dtc_cv_acc.best_score_)\n",
    "print('Node count =', dtc_cv_acc.best_estimator_.tree_.node_count)\n",
    "\n",
    "plt.figure(figsize=(20,10))\n",
    "plot_tree(dtc_cv_acc.best_estimator_, \n",
    "          feature_names=x_train.columns, \n",
    "          filled=True,\n",
    "          impurity=True,\n",
    "          rounded=True,\n",
    "          fontsize=12,\n",
    "          max_depth=3)\n",
    "plt.show()"
   ]
  },
  {
   "cell_type": "code",
   "execution_count": 424,
   "metadata": {},
   "outputs": [
    {
     "name": "stdout",
     "output_type": "stream",
     "text": [
      "Confusion Matrix : \n",
      " [[ 8  0  0  0  0  0]\n",
      " [ 0 37  0  0  0  0]\n",
      " [ 0  0 30  0  0  0]\n",
      " [ 0  0  0 39  0  0]\n",
      " [ 0  0  0  0 49  0]\n",
      " [ 0  0  0  0  0 21]]\n",
      "Accuracy on testing set: 1.0\n"
     ]
    }
   ],
   "source": [
    "y_pred = dtc_cv_acc.best_estimator_.predict(x_test)\n",
    "cm = confusion_matrix(y_test, y_pred)\n",
    "accuracy_CART = accuracy_score(y_test, y_pred)\n",
    "\n",
    "print(\"Confusion Matrix : \\n\", cm)\n",
    "print(f\"Accuracy on testing set: {accuracy_CART}\")"
   ]
  },
  {
   "cell_type": "markdown",
   "metadata": {},
   "source": [
    "## Boostrap CI"
   ]
  },
  {
   "cell_type": "code",
   "execution_count": 425,
   "metadata": {},
   "outputs": [
    {
     "name": "stdout",
     "output_type": "stream",
     "text": [
      "Now we have accuracy score on testing set for \n",
      " Multiclass Logistic Regression: 0.8967391304347826 \n",
      " Random Forest: 0.9456521739130435 \n",
      " CART: 1.0\n"
     ]
    }
   ],
   "source": [
    "print(f\"Now we have accuracy score on testing set for \\n Multiclass Logistic Regression: {accuracy_log} \\n Random Forest: {accuracy_rf} \\n CART: {accuracy_CART}\")"
   ]
  },
  {
   "cell_type": "code",
   "execution_count": 429,
   "metadata": {},
   "outputs": [],
   "source": [
    "def bootstrap_validation(test_data, test_label, train_label, model, metrics_list, sample):\n",
    "    n_sample = sample\n",
    "    n_metrics = len(metrics_list)\n",
    "    output_array=np.zeros([n_sample, n_metrics])\n",
    "    output_array[:]=np.nan\n",
    "    print(output_array.shape)\n",
    "    for bs_iter in range(n_sample):\n",
    "        bs_index = np.random.choice(test_data.index, len(test_data.index), replace=True)\n",
    "        bs_data = test_data.loc[bs_index]\n",
    "        bs_label = test_label.loc[bs_index]\n",
    "        bs_predicted = model.predict(bs_data)\n",
    "        for metrics_iter in range(n_metrics):\n",
    "            metrics = metrics_list[metrics_iter]\n",
    "            output_array[bs_iter, metrics_iter]=metrics(bs_predicted,bs_label)\n",
    "    output_df = pd.DataFrame(output_array)\n",
    "    return output_df"
   ]
  },
  {
   "cell_type": "code",
   "execution_count": 434,
   "metadata": {},
   "outputs": [
    {
     "name": "stdout",
     "output_type": "stream",
     "text": [
      "(1000, 1)\n",
      "(1000, 1)\n",
      "(1000, 1)\n"
     ]
    }
   ],
   "source": [
    "bs_output_rf = bootstrap_validation(x_test,y_test,y_train,rf_cv.best_estimator_,\n",
    "                                 metrics_list=[accuracy_score],\n",
    "                                 sample = 1000)\n",
    "bs_output_log = bootstrap_validation(x_test,y_test,y_train, logreg,\n",
    "                                 metrics_list=[accuracy_score],\n",
    "                                 sample = 1000)\n",
    "bs_output_cart = bootstrap_validation(x_test,y_test,y_train, dtc_cv_acc.best_estimator_,\n",
    "                                 metrics_list=[accuracy_score],\n",
    "                                 sample = 1000)"
   ]
  },
  {
   "cell_type": "code",
   "execution_count": 437,
   "metadata": {},
   "outputs": [
    {
     "name": "stdout",
     "output_type": "stream",
     "text": [
      "The 95-percent confidence interval of accuracy on random forest  is [0.9130434782608695, 0.983695652173913]\n",
      "The 95-percent confidence interval of accuracy on CART is [0.9456521739130435, 0.9456521739130435]\n",
      "The 95-percent confidence interval of accuracy on logistic regression is [0.9021739130434783, 0.9891304347826086]\n"
     ]
    }
   ],
   "source": [
    "# The 95% confidence interval\n",
    "CI_rf = [0, 0]\n",
    "CI_rf_0 = np.quantile(bs_output_rf.iloc[:,0]-accuracy_rf,np.array([0.025,0.975]))\n",
    "CI_rf[0] = accuracy_rf - CI_rf_0[1]\n",
    "CI_rf[1] = accuracy_rf - CI_rf_0[0]\n",
    "\n",
    "CI_cart = [0, 0]\n",
    "CI_cart_0 = np.quantile(bs_output_cart.iloc[:,0]-accuracy_CART,np.array([0.025,0.975]))\n",
    "CI_cart[0] = accuracy_rf - CI_cart_0[1]\n",
    "CI_cart[1] = accuracy_rf - CI_cart_0[0]\n",
    "\n",
    "CI_log = [0, 0]\n",
    "CI_log_0 = np.quantile(bs_output_log.iloc[:,0]-accuracy_log,np.array([0.025,0.975]))\n",
    "CI_log[0] = accuracy_rf - CI_log_0[1]\n",
    "CI_log[1] = accuracy_rf - CI_log_0[0]\n",
    "\n",
    "print(\"The 95-percent confidence interval of accuracy on random forest  is %s\" % CI_rf) #0.5,0.64\n",
    "print(\"The 95-percent confidence interval of accuracy on CART is %s\" % CI_cart) #0.5,0.64\n",
    "print(\"The 95-percent confidence interval of accuracy on logistic regression is %s\" % CI_log) #0.5,0.64"
   ]
  },
  {
   "cell_type": "markdown",
   "metadata": {},
   "source": []
  }
 ],
 "metadata": {
  "kernelspec": {
   "display_name": "cse163",
   "language": "python",
   "name": "python3"
  },
  "language_info": {
   "codemirror_mode": {
    "name": "ipython",
    "version": 3
   },
   "file_extension": ".py",
   "mimetype": "text/x-python",
   "name": "python",
   "nbconvert_exporter": "python",
   "pygments_lexer": "ipython3",
   "version": "3.8.12"
  }
 },
 "nbformat": 4,
 "nbformat_minor": 2
}
